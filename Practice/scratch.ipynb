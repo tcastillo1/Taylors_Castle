{
 "cells": [
  {
   "cell_type": "code",
   "execution_count": 1,
   "metadata": {},
   "outputs": [
    {
     "name": "stdout",
     "output_type": "stream",
     "text": [
      "1 2\n",
      "3 4\n",
      "5 6\n"
     ]
    }
   ],
   "source": [
    "for x, y in [(1,2), (3,4), (5,6)]:\n",
    "    print(x, y)\n"
   ]
  },
  {
   "cell_type": "code",
   "execution_count": 20,
   "metadata": {},
   "outputs": [
    {
     "name": "stdout",
     "output_type": "stream",
     "text": [
      "[1, 2, 3, 4]\n",
      "[1, 4, 3, 4]\n",
      "[1, 4, 9, 4]\n",
      "[1, 4, 9, 16]\n"
     ]
    }
   ],
   "source": [
    "list_2 = [1, 2, 3, 4]\n",
    "\n",
    "for i in list_2:\n",
    "    list_2[i-1] = i**2\n",
    "    print(list_2)\n"
   ]
  },
  {
   "cell_type": "code",
   "execution_count": 30,
   "metadata": {},
   "outputs": [
    {
     "name": "stdout",
     "output_type": "stream",
     "text": [
      "[16, 9, 4, 1]\n"
     ]
    }
   ],
   "source": [
    "def reverse_and_square(lst):\n",
    "    for i in range(len(lst)):\n",
    "        lst[i] = lst[i]**2\n",
    "    lst.reverse()\n",
    "    print(lst)\n"
   ]
  },
  {
   "cell_type": "code",
   "execution_count": 44,
   "metadata": {},
   "outputs": [
    {
     "name": "stdout",
     "output_type": "stream",
     "text": [
      "(-1.2, 1)\n",
      "(2, 'B')\n"
     ]
    }
   ],
   "source": [
    "dict = {-1.2:1, 2:'B'}\n",
    "for i in dict.items():\n",
    "    print(i)"
   ]
  },
  {
   "cell_type": "code",
   "execution_count": 17,
   "metadata": {},
   "outputs": [
    {
     "name": "stdout",
     "output_type": "stream",
     "text": [
      "[3, 6, 5]\n"
     ]
    }
   ],
   "source": [
    "def filter_list(l):\n",
    "    x = []\n",
    "    for i in l:\n",
    "        if type(i) == str:\n",
    "            pass\n",
    "        if type(i) == int:\n",
    "            x.append(i)\n",
    "    return print(x)\n",
    "\n",
    "y = ['asf', 3, 6, '4gh', 5]\n",
    "filter_list(y)"
   ]
  },
  {
   "cell_type": "code",
   "execution_count": 15,
   "metadata": {},
   "outputs": [
    {
     "name": "stdout",
     "output_type": "stream",
     "text": [
      "<class 'str'>\n",
      "<class 'int'>\n",
      "<class 'int'>\n",
      "<class 'str'>\n",
      "<class 'int'>\n"
     ]
    }
   ],
   "source": [
    "y = ['asf', 3, 6, '4gh', 5]\n",
    "\n",
    "for i in y:\n",
    "    print(type(i))\n"
   ]
  },
  {
   "cell_type": "code",
   "execution_count": 19,
   "metadata": {},
   "outputs": [
    {
     "data": {
      "text/plain": [
       "[3, 6, 5]"
      ]
     },
     "execution_count": 19,
     "metadata": {},
     "output_type": "execute_result"
    }
   ],
   "source": [
    "def filter_list(l):\n",
    "  return [i for i in l if not isinstance(i, str)]\n",
    "\n",
    "y = ['asf', 3, 6, '4gh', 5]\n",
    "filter_list(y)"
   ]
  },
  {
   "cell_type": "code",
   "execution_count": 25,
   "metadata": {},
   "outputs": [
    {
     "name": "stdout",
     "output_type": "stream",
     "text": [
      "1\n",
      "1\n",
      "2\n",
      "2\n",
      "3\n",
      "False\n",
      "1\n",
      "2\n",
      "1\n",
      "2\n",
      "True\n"
     ]
    }
   ],
   "source": [
    "def XO(x):\n",
    "    xs = 0\n",
    "    os = 0\n",
    "    for i in x:\n",
    "        if i.lower() == 'x':\n",
    "            xs +=1\n",
    "        if i.lower() == 'o':\n",
    "            os +=1\n",
    "    return xs == os\n",
    "\n",
    "print(XO(\"xooxx\"))\n",
    "print(XO(\"ooxXm\"))"
   ]
  },
  {
   "cell_type": "code",
   "execution_count": 30,
   "metadata": {},
   "outputs": [
    {
     "name": "stdout",
     "output_type": "stream",
     "text": [
      "[4, 5, 3]\n"
     ]
    }
   ],
   "source": [
    "y = ['asfs', '4gcsh', 'dfv']\n",
    "\n",
    "def find_short(s):\n",
    "    x = [len(i) for i in s]\n",
    "    return min(x)\n",
    "\n",
    "print(find_short(y))\n"
   ]
  },
  {
   "cell_type": "code",
   "execution_count": 44,
   "metadata": {},
   "outputs": [
    {
     "data": {
      "text/plain": [
       "'jumped'"
      ]
     },
     "execution_count": 44,
     "metadata": {},
     "output_type": "execute_result"
    }
   ],
   "source": [
    "y = 'The quick brown fox jumped over the lazy dog'\n",
    "\n",
    "def find_shortest_word_index(x):\n",
    "    z = x.split()\n",
    "    shortest_word = max(z, key=len)\n",
    "    return len(shortest_word)\n",
    "\n",
    "find_shortest_word_index(y)\n"
   ]
  },
  {
   "cell_type": "code",
   "execution_count": 97,
   "metadata": {},
   "outputs": [
    {
     "name": "stdout",
     "output_type": "stream",
     "text": [
      "starting coordinates :[2, 5]\n",
      "route :['N3', 'S2']\n",
      "ending coordinates :[2, 2]\n",
      "ending coordinates :[2, 4]\n"
     ]
    },
    {
     "data": {
      "text/plain": [
       "'Darry'"
      ]
     },
     "execution_count": 97,
     "metadata": {},
     "output_type": "execute_result"
    }
   ],
   "source": [
    "map = [[\"Deepwood Motte\",  \"Shadow Tower\",      \"Castle Black\",   \"Eastwatch\",      \"Bay of Seals\"],\n",
    "    [\"The Stony Shore\",  \"Torrhen's Square\", \"Winterfell\",     \"The Dreadfort\",  \"Karhold\"],\n",
    "    [\"Flint's Finger\",   \"Barrowtown\",       \"Moat Cailin\",    \"White Harbour\",  \"Widow's Wat\"],\n",
    "    [\"Pyke\",             \"Seagard\",          \"The Twins\",      \"Sisterton\",      \"The Fingers\"],\n",
    "    [\"The Crag\",         \"Riverrun\",         \"Darry\",          \"The Eyrie\",      \"Gulltown\"],\n",
    "    [\"Castamere\",        \"Acorn Hall\",       \"Harrenhal\",      \"Maidenpool\",     \"Dragonstone\"],\n",
    "    [\"Lannisport\",       \"Stoney Sept\",      \"King's Landing\", \"Blackwater Bay\", \"Sharp Point\"],\n",
    "    [\"High Garden\",      \"Bitterbridge\",     \"King's Wood\",    \"Storm's End\",    \"Evenfall\"],\n",
    "    [\"Old Town\",          \"Horn Hill\",       \"Prince's Pass\",  \"Planky Town\",    \"Sunspear\"]]\n",
    "\n",
    "def travel(start, travel):\n",
    "    for x in map:\n",
    "        for y in x:\n",
    "            if start == y:\n",
    "                xloc = x.index(start)\n",
    "                yloc = map.index(x)\n",
    "    coord = [xloc, yloc]\n",
    "    print(f\"starting coordinates :{coord}\")\n",
    "\n",
    "    route = travel.split()\n",
    "    print(f\"route :{route}\")\n",
    "    for i in route:\n",
    "        direction = i[:1]\n",
    "        distance = i[1:]       \n",
    "        if direction == 'N':\n",
    "            coord[1]=int(coord[1])-int(distance)\n",
    "        elif direction == 'W':\n",
    "            coord[0]=int(coord[0])-int(distance)\n",
    "        elif direction == 'E':\n",
    "            coord[0]=int(coord[0])+int(distance)\n",
    "        elif direction == 'S':\n",
    "            coord[1]= int(coord[1])+int(distance)\n",
    "        print(f\"ending coordinates :{coord}\")\n",
    "        if coord[1] < 0:\n",
    "            output = \"The Wall blocks your way\"\n",
    "        elif coord[1] > 8 or coord[0] < 0 or coord[0] > 4:\n",
    "            output = \"You do not have a ship to cross this sea.\"\n",
    "        elif 1 == 1:\n",
    "            output = map[coord[1]][coord[0]]\n",
    "    return output\n",
    "\n",
    "travel('Harrenhal', 'N3 S2')"
   ]
  },
  {
   "cell_type": "code",
   "execution_count": 103,
   "metadata": {},
   "outputs": [
    {
     "name": "stdout",
     "output_type": "stream",
     "text": [
      "{'a': 1, 'b': 2, 'c': 3, 'd': 4, 'e': 5, 'f': 6, 'g': 7, 'h': 8, 'i': 9, 'j': 10, 'k': 11, 'l': 12, 'm': 13, 'n': 14, 'o': 15, 'p': 16, 'q': 17, 'r': 18, 's': 19, 't': 20, 'u': 21, 'v': 22, 'w': 23, 'x': 24, 'y': 25, 'z': 26}\n"
     ]
    },
    {
     "data": {
      "text/plain": [
       "52"
      ]
     },
     "execution_count": 103,
     "metadata": {},
     "output_type": "execute_result"
    }
   ],
   "source": [
    "def columnnum(x):\n",
    "    x = x.lower()\n",
    "    abc = 'abcdefghijklmnopqrstuvwxyz'\n",
    "    mapabc = {}\n",
    "    num=0\n",
    "    for i in abc:\n",
    "        num+=1\n",
    "        mapabc[i]=num\n",
    "    print(mapabc)\n",
    "    if len(x) == 1:\n",
    "        output = mapabc[x]\n",
    "    elif 1 == 1:\n",
    "        output = mapabc[x[0]] * 26 + mapabc[x[1]]\n",
    "    return output\n",
    "\n",
    "columnnum('AZ')\n",
    "\n",
    "\n"
   ]
  },
  {
   "cell_type": "code",
   "execution_count": 109,
   "metadata": {},
   "outputs": [
    {
     "data": {
      "text/plain": [
       "1"
      ]
     },
     "execution_count": 109,
     "metadata": {},
     "output_type": "execute_result"
    }
   ],
   "source": [
    "ord(\"A\")-64"
   ]
  }
 ],
 "metadata": {
  "kernelspec": {
   "display_name": "myenv",
   "language": "python",
   "name": "python3"
  },
  "language_info": {
   "codemirror_mode": {
    "name": "ipython",
    "version": 3
   },
   "file_extension": ".py",
   "mimetype": "text/x-python",
   "name": "python",
   "nbconvert_exporter": "python",
   "pygments_lexer": "ipython3",
   "version": "3.9.6"
  }
 },
 "nbformat": 4,
 "nbformat_minor": 2
}
