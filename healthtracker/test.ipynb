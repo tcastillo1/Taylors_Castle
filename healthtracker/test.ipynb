{
 "cells": [
  {
   "cell_type": "code",
   "execution_count": 2,
   "metadata": {},
   "outputs": [],
   "source": [
    "import sqlite3\n",
    "\n",
    "conn = sqlite3.connect('healthtracker.db')\n",
    "c = conn.cursor()\n",
    "\n",
    "# Create a table\n",
    "c.execute('''\n",
    "    CREATE TABLE IF NOT EXISTS health_data (\n",
    "        id INTEGER PRIMARY KEY AUTOINCREMENT,\n",
    "        date TEXT,\n",
    "        weight REAL,\n",
    "        calories REAL\n",
    "    )\n",
    "''')\n",
    "\n",
    "conn.commit()\n",
    "conn.close()\n"
   ]
  },
  {
   "cell_type": "code",
   "execution_count": 4,
   "metadata": {},
   "outputs": [],
   "source": [
    "import sqlite3\n",
    "\n",
    "conn = sqlite3.connect('healthtracker.db')\n",
    "c = conn.cursor()\n",
    "\n",
    "# Create a table\n",
    "c.execute('''\n",
    "    select * from health_data\n",
    "    \n",
    "''')\n",
    "\n",
    "conn.commit()\n",
    "conn.close()\n"
   ]
  },
  {
   "cell_type": "code",
   "execution_count": 5,
   "metadata": {},
   "outputs": [],
   "source": [
    "# sql_queries.py\n",
    "\n",
    "def create_biometric_table():\n",
    "    return '''\n",
    "    CREATE TABLE IF NOT EXISTS biometrics (\n",
    "        id INTEGER PRIMARY KEY,\n",
    "        user TEXT,\n",
    "        date DATE NOT NULL,\n",
    "        weight REAL,\n",
    "        calories INTEGER,\n",
    "        protein INTEGER,\n",
    "        fat INTEGER,\n",
    "        carbohydrates INTEGER,\n",
    "        sugar INTEGER\n",
    "    );\n",
    "    '''\n",
    "\n",
    "def select_data():\n",
    "    return 'SELECT * FROM biometrics WHERE user = ?;'\n",
    "\n",
    "def insert_data():\n",
    "    return '''\n",
    "        INSERT INTO biometrics (id, user, date, weight, calories, protein, fat, carbohydrates, sugar) \n",
    "            VALUES (?, ?, ?, ?, ?, ?, ?, ?, ?);\n",
    "        '''\n"
   ]
  },
  {
   "cell_type": "code",
   "execution_count": 14,
   "metadata": {},
   "outputs": [
    {
     "ename": "AttributeError",
     "evalue": "module 'datetime' has no attribute 'strptime'",
     "output_type": "error",
     "traceback": [
      "\u001b[0;31m---------------------------------------------------------------------------\u001b[0m",
      "\u001b[0;31mAttributeError\u001b[0m                            Traceback (most recent call last)",
      "Cell \u001b[0;32mIn[14], line 8\u001b[0m\n\u001b[1;32m      6\u001b[0m cursor\u001b[38;5;241m.\u001b[39mexecute(create_biometric_table())\n\u001b[1;32m      7\u001b[0m user_date \u001b[38;5;241m=\u001b[39m \u001b[38;5;124m'\u001b[39m\u001b[38;5;124m1/2/2025\u001b[39m\u001b[38;5;124m'\u001b[39m  \u001b[38;5;66;03m# Date from user input\u001b[39;00m\n\u001b[0;32m----> 8\u001b[0m formatted_date \u001b[38;5;241m=\u001b[39m \u001b[43mdatetime\u001b[49m\u001b[38;5;241;43m.\u001b[39;49m\u001b[43mstrptime\u001b[49m(user_date, \u001b[38;5;124m'\u001b[39m\u001b[38;5;124m%\u001b[39m\u001b[38;5;124mm/\u001b[39m\u001b[38;5;132;01m%d\u001b[39;00m\u001b[38;5;124m/\u001b[39m\u001b[38;5;124m%\u001b[39m\u001b[38;5;124mY\u001b[39m\u001b[38;5;124m'\u001b[39m)\u001b[38;5;241m.\u001b[39mstrftime(\u001b[38;5;124m'\u001b[39m\u001b[38;5;124m%\u001b[39m\u001b[38;5;124mY-\u001b[39m\u001b[38;5;124m%\u001b[39m\u001b[38;5;124mm-\u001b[39m\u001b[38;5;132;01m%d\u001b[39;00m\u001b[38;5;124m'\u001b[39m) \n\u001b[1;32m      9\u001b[0m cursor\u001b[38;5;241m.\u001b[39mexecute(insert_data(), (\u001b[38;5;241m3\u001b[39m, \u001b[38;5;124m'\u001b[39m\u001b[38;5;124mtcastillo1\u001b[39m\u001b[38;5;124m'\u001b[39m, \u001b[38;5;124m'\u001b[39m\u001b[38;5;124m1/2/2024\u001b[39m\u001b[38;5;124m'\u001b[39m, \u001b[38;5;241m212.8\u001b[39m, \u001b[38;5;241m1000\u001b[39m, \u001b[38;5;241m20\u001b[39m, \u001b[38;5;241m20\u001b[39m, \u001b[38;5;241m20\u001b[39m, \u001b[38;5;241m10\u001b[39m))\n\u001b[1;32m     10\u001b[0m cursor\u001b[38;5;241m.\u001b[39mexecute(\u001b[38;5;124m\"\u001b[39m\u001b[38;5;124mSELECT * FROM biometrics\u001b[39m\u001b[38;5;124m\"\u001b[39m)\n",
      "\u001b[0;31mAttributeError\u001b[0m: module 'datetime' has no attribute 'strptime'"
     ]
    }
   ],
   "source": [
    "from sql_queries import create_biometric_table, select_data, insert_data\n",
    "import datetime\n",
    "\n",
    "with sqlite3.connect('healthtracker.db') as conn:\n",
    "    cursor = conn.cursor()\n",
    "    cursor.execute(create_biometric_table())\n",
    "    user_date = '1/2/2025'  # Date from user input\n",
    "    formatted_date = datetime.strptime(user_date, '%m/%d/%Y').strftime('%Y-%m-%d') \n",
    "    cursor.execute(insert_data(), (3, 'tcastillo1', '1/2/2024', 212.8, 1000, 20, 20, 20, 10))\n",
    "    cursor.execute(\"SELECT * FROM biometrics\")\n",
    "    print(cursor.fetchall())\n"
   ]
  }
 ],
 "metadata": {
  "kernelspec": {
   "display_name": "Python 3",
   "language": "python",
   "name": "python3"
  },
  "language_info": {
   "codemirror_mode": {
    "name": "ipython",
    "version": 3
   },
   "file_extension": ".py",
   "mimetype": "text/x-python",
   "name": "python",
   "nbconvert_exporter": "python",
   "pygments_lexer": "ipython3",
   "version": "3.12.7"
  }
 },
 "nbformat": 4,
 "nbformat_minor": 2
}
