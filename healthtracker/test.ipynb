{
 "cells": [
  {
   "cell_type": "code",
   "execution_count": 2,
   "metadata": {},
   "outputs": [],
   "source": [
    "import sqlite3\n",
    "\n",
    "conn = sqlite3.connect('healthtracker.db')\n",
    "c = conn.cursor()\n",
    "\n",
    "# Create a table\n",
    "c.execute('''\n",
    "    CREATE TABLE IF NOT EXISTS health_data (\n",
    "        id INTEGER PRIMARY KEY AUTOINCREMENT,\n",
    "        date TEXT,\n",
    "        weight REAL,\n",
    "        calories REAL\n",
    "    )\n",
    "''')\n",
    "\n",
    "conn.commit()\n",
    "conn.close()\n"
   ]
  },
  {
   "cell_type": "code",
   "execution_count": 4,
   "metadata": {},
   "outputs": [],
   "source": [
    "import sqlite3\n",
    "\n",
    "conn = sqlite3.connect('healthtracker.db')\n",
    "c = conn.cursor()\n",
    "\n",
    "# Create a table\n",
    "c.execute('''\n",
    "    select * from health_data\n",
    "    \n",
    "''')\n",
    "\n",
    "conn.commit()\n",
    "conn.close()\n"
   ]
  },
  {
   "cell_type": "code",
   "execution_count": 5,
   "metadata": {},
   "outputs": [],
   "source": [
    "# sql_queries.py\n",
    "\n",
    "def create_biometric_table():\n",
    "    return '''\n",
    "    CREATE TABLE IF NOT EXISTS biometrics (\n",
    "        id INTEGER PRIMARY KEY,\n",
    "        user TEXT,\n",
    "        date DATE NOT NULL,\n",
    "        weight REAL,\n",
    "        calories INTEGER,\n",
    "        protein INTEGER,\n",
    "        fat INTEGER,\n",
    "        carbohydrates INTEGER,\n",
    "        sugar INTEGER\n",
    "    );\n",
    "    '''\n",
    "\n",
    "def select_data():\n",
    "    return 'SELECT * FROM biometrics WHERE user = ?;'\n",
    "\n",
    "def insert_data():\n",
    "    return '''\n",
    "        INSERT INTO biometrics (id, user, date, weight, calories, protein, fat, carbohydrates, sugar) \n",
    "            VALUES (?, ?, ?, ?, ?, ?, ?, ?, ?);\n",
    "        '''\n"
   ]
  },
  {
   "cell_type": "code",
   "execution_count": 16,
   "metadata": {},
   "outputs": [
    {
     "name": "stdout",
     "output_type": "stream",
     "text": [
      "[(1, 'tcastillo1', '1/2/2024', 212.8, 1000, 20, 20, 20, 10), (2, 'tcastillo1', '1/2/2024', 212.8, 1000, 20, 20, 20, 10), (3, 'tcastillo1', '1/2/2024', 212.8, 1000, 20, 20, 20, 10)]\n"
     ]
    }
   ],
   "source": [
    "from sql_queries import create_biometric_table, select_data, insert_data\n",
    "import datetime\n",
    "\n",
    "with sqlite3.connect('healthtracker.db') as conn:\n",
    "    cursor = conn.cursor()\n",
    "    cursor.execute(create_biometric_table())\n",
    "    # user_date = '1/2/2025'  # Date from user input\n",
    "    # formatted_date = datetime.strptime(user_date, '%m/%d/%Y').strftime('%Y-%m-%d') \n",
    "    try:\n",
    "        cursor.execute(insert_data(), (3, 'tcastillo1', '1/2/2024', 212.8, 1000, 20, 20, 20, 10))\n",
    "    except:\n",
    "        None\n",
    "    cursor.execute(\"SELECT * FROM biometrics\")\n",
    "    print(cursor.fetchall())\n"
   ]
  }
 ],
 "metadata": {
  "kernelspec": {
   "display_name": "Python 3",
   "language": "python",
   "name": "python3"
  },
  "language_info": {
   "codemirror_mode": {
    "name": "ipython",
    "version": 3
   },
   "file_extension": ".py",
   "mimetype": "text/x-python",
   "name": "python",
   "nbconvert_exporter": "python",
   "pygments_lexer": "ipython3",
   "version": "3.12.7"
  }
 },
 "nbformat": 4,
 "nbformat_minor": 2
}
