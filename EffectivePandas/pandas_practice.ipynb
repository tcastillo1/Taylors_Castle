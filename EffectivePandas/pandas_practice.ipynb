{
 "cells": [
  {
   "cell_type": "code",
   "execution_count": 4,
   "metadata": {},
   "outputs": [
    {
     "name": "stdout",
     "output_type": "stream",
     "text": [
      "     Make   Model  MPG  Cylinders  Doors  Weight  0-60\n",
      "0   Honda  Accord   33          4      2    2700   7.5\n",
      "1  Toyota   Camry   34          4      4    2800   7.0\n",
      "2    Ford  Taurus   31          4      4    2900   8.0\n",
      "3  Nissan  Sentra   39          4      4    2750   8.5\n"
     ]
    }
   ],
   "source": [
    "import pandas as pd\n",
    "df = pd.DataFrame({\n",
    "    'Make': ['Ford', 'Nissan', 'Toyota', 'Tesla'],\n",
    "    'Model': ['Taurus', 'Leaf', 'Prius', 'Model S'],\n",
    "    'MSRP': [27595, 29990, 24500, 68000],\n",
    "    '0-60': [7.2, 10.2, 11.3, 2.5],\n",
    "})\n",
    "\n",
    "df2 = pd.DataFrame({\n",
    "    'Make': ['Honda', 'Toyota', 'Ford', 'Nissan'],\n",
    "    'Model': ['Accord', 'Camry', 'Taurus', 'Sentra'],\n",
    "    'MPG': [33, 34, 31, 39],\n",
    "    'Cylinders': [4, 4, 4, 4],\n",
    "    'Doors': [2, 4, 4, 4],\n",
    "    'Weight': [2700, 2800, 2900, 2750],\n",
    "    '0-60': [7.5, 7.0, 8.0, 8.5],\n",
    "})\n",
    "\n",
    "print(df2.head())\n"
   ]
  },
  {
   "cell_type": "code",
   "execution_count": 34,
   "metadata": {},
   "outputs": [
    {
     "data": {
      "text/plain": [
       "11.3"
      ]
     },
     "execution_count": 34,
     "metadata": {},
     "output_type": "execute_result"
    }
   ],
   "source": [
    "df['0-60'].max()"
   ]
  },
  {
   "cell_type": "code",
   "execution_count": 35,
   "metadata": {},
   "outputs": [
    {
     "data": {
      "text/plain": [
       "3"
      ]
     },
     "execution_count": 35,
     "metadata": {},
     "output_type": "execute_result"
    }
   ],
   "source": [
    "(df['0-60']\n",
    "    .gt(6)\n",
    "    .sum())"
   ]
  }
 ],
 "metadata": {
  "kernelspec": {
   "display_name": "Python 3",
   "language": "python",
   "name": "python3"
  },
  "language_info": {
   "codemirror_mode": {
    "name": "ipython",
    "version": 3
   },
   "file_extension": ".py",
   "mimetype": "text/x-python",
   "name": "python",
   "nbconvert_exporter": "python",
   "pygments_lexer": "ipython3",
   "version": "3.10.9"
  },
  "orig_nbformat": 4
 },
 "nbformat": 4,
 "nbformat_minor": 2
}
