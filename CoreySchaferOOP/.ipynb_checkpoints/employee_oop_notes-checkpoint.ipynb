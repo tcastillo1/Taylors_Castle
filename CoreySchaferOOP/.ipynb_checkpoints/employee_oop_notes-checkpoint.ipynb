{
 "cells": [
  {
   "attachments": {},
   "cell_type": "markdown",
   "metadata": {},
   "source": [
    "## Decorators\n",
    "- Functions that modify other functions\n",
    "- @property\n",
    "- @function_name.setter"
   ]
  },
  {
   "attachments": {},
   "cell_type": "markdown",
   "metadata": {},
   "source": [
    "### Property (getter method)\n",
    "- Property decorators allow you to call methods without having to use the parenthesis. So you can call them like attributes\n",
    "- the first block of code sets the email at initialization which seems fine. But what happens if we change the name of the employee and then want to print out their email? As you can see below, **the email doesn't get updated**, only the name gets updated.\n",
    "- Why does the name get updated? The name gets updated because the fullname method recalculates their fullname when called.\n",
    "\n",
    "```txt\n",
    "Maybe it's best practice to only initialize inputs like first and last name and NOT email. email is a calculated field that needs to be calculated on demand because it needs to change if name is changed\n",
    "```"
   ]
  },
  {
   "cell_type": "code",
   "execution_count": 43,
   "metadata": {},
   "outputs": [
    {
     "name": "stdout",
     "output_type": "stream",
     "text": [
      "Timmy Lincecum\n",
      "Timmy.Lincecum@gmail.com\n",
      "Bobby Lincecum\n",
      "Timmy.Lincecum@gmail.com\n"
     ]
    }
   ],
   "source": [
    "class Employee:\n",
    "\n",
    "    def __init__(self, first, last):\n",
    "        self.first = first\n",
    "        self.last = last\n",
    "        self.email = f\"{self.first}.{self.last}@gmail.com\"\n",
    "\n",
    "    def fullname(self):\n",
    "        return f\"{self.first} {self.last}\"\n",
    "\n",
    "\n",
    "employee_1 = Employee(\"Timmy\", \"Lincecum\")\n",
    "\n",
    "print(employee_1.fullname())\n",
    "print(employee_1.email)\n",
    "\n",
    "employee_1.first = \"Bobby\"\n",
    "\n",
    "print(employee_1.fullname())\n",
    "print(employee_1.email)"
   ]
  },
  {
   "attachments": {},
   "cell_type": "markdown",
   "metadata": {},
   "source": [
    "- If instead we remove the email from the initialization method and create an email getter method, we can force the email attribute to \"recalculate\" on-demand, just like the fullname.\n",
    "- What does the @property decorator do? The property decorator simply allows us to call the method as if it were an attribute. So we can call \"employee_1.email\" instead of \"employee_1.email().\"\n",
    "    - It's better because it wont break downstream code that leverages the attribute. Instead of having to change all code to call .email(), the code can continue to call .email (just as we are doing above) but now .email will be updated whereas it wasn't being updated when called on in the above code"
   ]
  },
  {
   "cell_type": "code",
   "execution_count": 44,
   "metadata": {},
   "outputs": [
    {
     "name": "stdout",
     "output_type": "stream",
     "text": [
      "Timmy Lincecum\n",
      "Timmy.Lincecum@gmail.com\n",
      "Bobby Lincecum\n",
      "Bobby.Lincecum@gmail.com\n"
     ]
    }
   ],
   "source": [
    "\n",
    "class Employee:\n",
    "\n",
    "    def __init__(self, first, last):\n",
    "        self.first = first\n",
    "        self.last = last\n",
    "\n",
    "    @property\n",
    "    def fullname(self):\n",
    "        return f\"{self.first} {self.last}\"\n",
    "\n",
    "    @property\n",
    "    def email(self):\n",
    "        return f\"{self.first}.{self.last}@gmail.com\"\n",
    "\n",
    "\n",
    "employee_1 = Employee(\"Timmy\", \"Lincecum\")\n",
    "\n",
    "print(employee_1.fullname)\n",
    "print(employee_1.email)\n",
    "\n",
    "employee_1.first = \"Bobby\"\n",
    "\n",
    "print(employee_1.fullname)\n",
    "print(employee_1.email)"
   ]
  },
  {
   "attachments": {},
   "cell_type": "markdown",
   "metadata": {},
   "source": [
    "### Setter\n",
    "- setter method. Allows you to apply some constraints that prevent the user from modifying an attribute after the object has been created. forces the user to go through the setter method to change an attribute rather than just resetting the attribute."
   ]
  },
  {
   "cell_type": "code",
   "execution_count": 42,
   "metadata": {},
   "outputs": [
    {
     "name": "stdout",
     "output_type": "stream",
     "text": [
      "Timmy Lincecum\n",
      "Bobby Lincecum\n"
     ]
    }
   ],
   "source": [
    "class Employee:\n",
    "\n",
    "    def __init__(self, first, last):\n",
    "        self.first = first\n",
    "        self.last = last\n",
    "\n",
    "    @property\n",
    "    def fullname(self):\n",
    "        return f\"{self.first} {self.last}\"\n",
    "\n",
    "    @fullname.setter\n",
    "    def fullname(self, first, last):\n",
    "        self.first = first\n",
    "        self.last = last\n",
    "\n",
    "    @property\n",
    "    def email(self):\n",
    "        return f\"{self.first}.{self.last}@gmail.com\"\n",
    "\n",
    "\n",
    "employee_1 = Employee(\"Timmy\", \"Lincecum\")\n",
    "\n",
    "print(employee_1.fullname)\n",
    "# print(employee_1.email)\n",
    "\n",
    "employee_1.first = \"Bobby\"\n",
    "\n",
    "print(employee_1.fullname)\n",
    "# print(employee_1.email)"
   ]
  }
 ],
 "metadata": {
  "kernelspec": {
   "display_name": "Python 3",
   "language": "python",
   "name": "python3"
  },
  "language_info": {
   "codemirror_mode": {
    "name": "ipython",
    "version": 3
   },
   "file_extension": ".py",
   "mimetype": "text/x-python",
   "name": "python",
   "nbconvert_exporter": "python",
   "pygments_lexer": "ipython3",
   "version": "3.10.8"
  },
  "orig_nbformat": 4,
  "vscode": {
   "interpreter": {
    "hash": "b0fa6594d8f4cbf19f97940f81e996739fb7646882a419484c72d19e05852a7e"
   }
  }
 },
 "nbformat": 4,
 "nbformat_minor": 2
}
