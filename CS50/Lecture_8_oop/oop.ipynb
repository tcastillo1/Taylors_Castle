{
 "cells": [
  {
   "cell_type": "markdown",
   "id": "f0d9d69b",
   "metadata": {},
   "source": [
    "> test markdown"
   ]
  },
  {
   "cell_type": "code",
   "execution_count": 24,
   "id": "76ee0888-fbb1-4a47-9e22-904abfe16aca",
   "metadata": {},
   "outputs": [],
   "source": [
    "class Student:\n",
    "    def __init__(self, name, house, patronas):\n",
    "        self.name = name\n",
    "        self.house = house\n",
    "        self.patronas = patronas\n",
    "    def __str__(self):\n",
    "        return f\"{self.name} from {self.house}\"\n",
    "\n",
    "def main():\n",
    "    student = get_student()\n",
    "    print(student)\n",
    "\n",
    "def get_student():\n",
    "    name = input(\"name: \")\n",
    "    house = input(\"house: \")\n",
    "    patronas = input(\"patronas: \")\n",
    "    return Student(name, house, patronas)\n",
    "\n",
    "if __name__ == \"__main__\":\n",
    "    main()"
   ]
  },
  {
   "cell_type": "code",
   "execution_count": null,
   "id": "3f75eea3",
   "metadata": {},
   "outputs": [],
   "source": [
    "print(a)"
   ]
  }
 ],
 "metadata": {
  "kernelspec": {
   "display_name": "Python 3.10.8 64-bit",
   "language": "python",
   "name": "python3"
  },
  "language_info": {
   "codemirror_mode": {
    "name": "ipython",
    "version": 3
   },
   "file_extension": ".py",
   "mimetype": "text/x-python",
   "name": "python",
   "nbconvert_exporter": "python",
   "pygments_lexer": "ipython3",
   "version": "3.10.8 (main, Oct 21 2022, 22:22:30) [Clang 14.0.0 (clang-1400.0.29.202)]"
  },
  "vscode": {
   "interpreter": {
    "hash": "b0fa6594d8f4cbf19f97940f81e996739fb7646882a419484c72d19e05852a7e"
   }
  }
 },
 "nbformat": 4,
 "nbformat_minor": 5
}
