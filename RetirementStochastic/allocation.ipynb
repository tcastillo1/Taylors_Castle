{
 "cells": [
  {
   "cell_type": "code",
   "execution_count": 3,
   "metadata": {},
   "outputs": [
    {
     "name": "stdout",
     "output_type": "stream",
     "text": [
      "(2, 81)\n"
     ]
    }
   ],
   "source": [
    "import numpy as np\n",
    "\n",
    "# this function produces a two-dimensional numpy array of shape 2 x n, where n represents\n",
    "# the total number of periods in the projection. the first row represents the age array beginning \n",
    "# at the starting age and ending after n years. the second row represents the allocation array that \n",
    "# defines the pct of the investment fund to be invested in stocks at the corresponding age.\n",
    "def allocation_array(\n",
    "    start_pct = .90,        # pct invested in equities at the start of the projection\n",
    "    five_yr_pct = .55,      # pct invested in equities 5 years out from retirement\n",
    "    end_pct = .40,          # pct invested in equities at retirement\n",
    "    starting_age = 30,      # age at the start of the projection\n",
    "    retirement_age = 65,    # retirement age and the age at which the end allocation pct is reached\n",
    "    periods_per_year = 2,   # the number of periods in a year\n",
    "    years = 40              # length of the projection in years\n",
    "):\n",
    "    \n",
    "    # income_period represents the number of income earning years\n",
    "    income_period = retirement_age - starting_age\n",
    "\n",
    "    # calculate segment_one_length\n",
    "    # segment_one_length represents the number of periods at the initial constant allocation\n",
    "    segment_one_length = 0 if income_period <= 30 else (income_period - 30) * periods_per_year\n",
    "\n",
    "    # calculate segment_four_length\n",
    "    # segment_four_length represents the number of periods at the ending constant allocation\n",
    "    segment_four_length = 0 if years <= income_period else (years - income_period) * periods_per_year + 1\n",
    "\n",
    "    # calculate segment_two_length, start pct and end pct\n",
    "    # segment two represents the period from 30 to 5 years from retirement\n",
    "    segment_two_slope = (five_yr_pct - start_pct) / (25 * periods_per_year)\n",
    "    segment_two_end_pct = five_yr_pct - segment_two_slope\n",
    "    if income_period <= 5:\n",
    "        segment_two_length = 0\n",
    "    elif income_period >= 30:\n",
    "        segment_two_length = 25 * periods_per_year\n",
    "        segment_two_start_pct = start_pct \n",
    "    else:\n",
    "        segment_two_length = (income_period - 5) * periods_per_year\n",
    "        segment_two_start_pct = five_yr_pct + ((income_period - 5) / 25 * (start_pct - five_yr_pct))\n",
    "\n",
    "    # calculate segment_three_length, start pct and end pct\n",
    "    # segment three represents the period from 5 to 0 years from retirement\n",
    "    segment_three_slope = (end_pct - five_yr_pct) / (5 * periods_per_year)\n",
    "    segment_three_end_pct = end_pct - segment_three_slope\n",
    "    if income_period >= 5:\n",
    "        segment_three_length = 5 * periods_per_year\n",
    "        segment_three_start_pct = five_yr_pct       \n",
    "    else:\n",
    "        segment_three_length = income_period * periods_per_year\n",
    "        segment_three_start_pct = end_pct + (income_period / 5 * (five_yr_pct - end_pct))\n",
    "\n",
    "    # setup allocation arrays\n",
    "    segment_one_array = np.full(segment_one_length, start_pct)\n",
    "    segment_two_array = np.linspace(segment_two_start_pct, segment_two_end_pct, segment_two_length)\n",
    "    segment_three_array = np.linspace(segment_three_start_pct, segment_three_end_pct, segment_three_length)\n",
    "    segment_four_array = np.full(segment_four_length, end_pct)\n",
    "\n",
    "    # concatenate the arrays into one single array\n",
    "    allocation_array = np.concatenate((segment_one_array,segment_two_array,segment_three_array,segment_four_array))\n",
    "\n",
    "    # create an age array to act as a helper array when graphing\n",
    "    age_array = np.ones(periods_per_year * years + 1) / periods_per_year\n",
    "    age_array[0] = starting_age\n",
    "    age_array = np.cumsum(age_array) \n",
    "\n",
    "    # add the age and allocation array into a single array\n",
    "    result_array = np.vstack((age_array, allocation_array))\n",
    "\n",
    "    return result_array"
   ]
  },
  {
   "cell_type": "code",
   "execution_count": null,
   "metadata": {},
   "outputs": [],
   "source": [
    "    # result_df = pd.DataFrame(result)\n",
    "\n",
    "    # allocation_array_df = pd.DataFrame(allocation_array)\n",
    "    # segment_two_array_df = pd.DataFrame(segment_two_array)\n",
    "    # age_array_df = pd.DataFrame(age_array)\n",
    "\n",
    "    # with pd.ExcelWriter('allocation_array.xlsx') as writer:\n",
    "    #     allocation_array_df.to_excel(writer, sheet_name='allocation_array')\n",
    "    #     segment_two_array_df.to_excel(writer, sheet_name='segment_two_array')\n",
    "    #     age_array_df.to_excel(writer, sheet_name='age_array')\n",
    "\n",
    "    # print(age_array.shape)\n",
    "\n",
    "\n",
    "# df = allocation_array()\n",
    "# print(df)\n",
    "# sns.lineplot(x = df.iloc[0].values, y = df.iloc[1].values)\n",
    "# plt.show()"
   ]
  }
 ],
 "metadata": {
  "kernelspec": {
   "display_name": "Python 3",
   "language": "python",
   "name": "python3"
  },
  "language_info": {
   "codemirror_mode": {
    "name": "ipython",
    "version": 3
   },
   "file_extension": ".py",
   "mimetype": "text/x-python",
   "name": "python",
   "nbconvert_exporter": "python",
   "pygments_lexer": "ipython3",
   "version": "3.10.9"
  },
  "orig_nbformat": 4
 },
 "nbformat": 4,
 "nbformat_minor": 2
}
