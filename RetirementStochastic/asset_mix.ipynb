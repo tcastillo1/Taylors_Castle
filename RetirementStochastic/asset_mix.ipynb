{
  "cells": [
    {
      "cell_type": "code",
      "execution_count": 1,
      "metadata": {},
      "outputs": [],
      "source": [
        "import numpy as np\n",
        "from series import age_series\n",
        "import pandas as pd\n",
        "\n",
        "# this function produces a two-dimensional numpy array of shape 2 x n, where n represents\n",
        "# the total number of periods in the projection. the first row represents the age array beginning \n",
        "# at the starting age and ending after n yrs. the second row represents the asset_mix array that \n",
        "# defines the pct of the investment fund to be invested in stocks at each period.\n",
        "def asset_mix(\n",
        "    start_pct = .90,        # pct invested in equities at the start of the projection\n",
        "    pct_5 = .55,      # pct invested in equities 5 yrs out from retirement\n",
        "    end_pct = .40,          # pct invested in equities at retirement\n",
        "    age = 30,               # age at the start of the projection\n",
        "    ret_age = 65,           # retirement age and the age at which the end asset_mix pct is reached\n",
        "    freq = 12,   # the number of periods in a year\n",
        "    yrs = 40,              # length of the projection in yrs\n",
        "    **kwargs\n",
        "):\n",
        "    \n",
        "    # income_period represents the number of income earning yrs\n",
        "    income_period = ret_age - age\n",
        "\n",
        "    # segment_one_length represents the number of periods at the initial constant asset_mix\n",
        "    segment_one_length = 0 if income_period <= 30 else (income_period - 30) * freq\n",
        "\n",
        "    # segment_four_length represents the number of periods at the ending constant asset_mix\n",
        "    segment_four_length = 0 if yrs <= income_period else (yrs - income_period) * freq + 1\n",
        "\n",
        "    # calculate segment_two_length, start pct and end pct\n",
        "    # segment two represents the period from 30 to 5 yrs from retirement\n",
        "    segment_two_slope = (pct_5 - start_pct) / (25 * freq)\n",
        "    segment_two_end_pct = pct_5 - segment_two_slope\n",
        "    if income_period <= 5:\n",
        "        segment_two_length = 0\n",
        "        segment_two_start_pct = 0\n",
        "    elif income_period >= 30:\n",
        "        segment_two_length = 25 * freq\n",
        "        segment_two_start_pct = start_pct \n",
        "    else:\n",
        "        segment_two_length = (income_period - 5) * freq\n",
        "        segment_two_start_pct = pct_5 + ((income_period - 5) / 25 * (start_pct - pct_5))\n",
        "\n",
        "    # calculate segment_three_length, start pct and end pct\n",
        "    # segment three represents the period from 5 to 0 yrs from retirement\n",
        "    segment_three_slope = (end_pct - pct_5) / (5 * freq)\n",
        "    segment_three_end_pct = end_pct - segment_three_slope\n",
        "    if income_period >= 5:\n",
        "        segment_three_length = 5 * freq\n",
        "        segment_three_start_pct = pct_5       \n",
        "    else:\n",
        "        segment_three_length = income_period * freq\n",
        "        segment_three_start_pct = end_pct + (income_period / 5 * (pct_5 - end_pct))\n",
        "\n",
        "    # setup asset_mix arrays\n",
        "    segment_one_array = np.full(segment_one_length, start_pct)\n",
        "    segment_two_array = np.linspace(segment_two_start_pct, segment_two_end_pct, segment_two_length)\n",
        "    segment_three_array = np.linspace(segment_three_start_pct, segment_three_end_pct, segment_three_length)\n",
        "    segment_four_array = np.full(segment_four_length, end_pct)\n",
        "\n",
        "    # concatenate the arrays into one single array\n",
        "    stock_asset_mix_array = np.concatenate((segment_one_array,segment_two_array,segment_three_array,segment_four_array))\n",
        "    bond_asset_mix_array = 1 - stock_asset_mix_array\n",
        "\n",
        "    # add the age, stock and bond asset_mix arrays into a single multidimensional array\n",
        "    result_array = np.column_stack((stock_asset_mix_array, bond_asset_mix_array))\n",
        "    df = pd.DataFrame(result_array, columns =['stock', 'bond'])\n",
        "    return df\n",
        "\n",
        "df = asset_mix()"
      ]
    },
    {
      "cell_type": "code",
      "execution_count": 2,
      "metadata": {},
      "outputs": [
        {
          "name": "stdout",
          "output_type": "stream",
          "text": [
            "     stock  bond\n",
            "0      0.9   0.1\n",
            "1      0.9   0.1\n",
            "2      0.9   0.1\n",
            "3      0.9   0.1\n",
            "4      0.9   0.1\n",
            "..     ...   ...\n",
            "476    0.4   0.6\n",
            "477    0.4   0.6\n",
            "478    0.4   0.6\n",
            "479    0.4   0.6\n",
            "480    0.4   0.6\n",
            "\n",
            "[481 rows x 2 columns]\n"
          ]
        }
      ],
      "source": [
        "print(df)"
      ]
    }
  ],
  "metadata": {
    "kernelspec": {
      "display_name": "Python 3",
      "language": "python",
      "name": "python3"
    },
    "language_info": {
      "codemirror_mode": {
        "name": "ipython",
        "version": 3
      },
      "file_extension": ".py",
      "mimetype": "text/x-python",
      "name": "python",
      "nbconvert_exporter": "python",
      "pygments_lexer": "ipython3",
      "version": "3.10.9"
    },
    "orig_nbformat": 4
  },
  "nbformat": 4,
  "nbformat_minor": 2
}
