{
 "cells": [
  {
   "cell_type": "code",
   "execution_count": 10,
   "metadata": {},
   "outputs": [
    {
     "name": "stdout",
     "output_type": "stream",
     "text": [
      "0      1250.000000\n",
      "1      1254.092175\n",
      "2      1258.197746\n",
      "3      1262.316758\n",
      "4      1266.449255\n",
      "          ...     \n",
      "476   -8333.333333\n",
      "477   -8333.333333\n",
      "478   -8333.333333\n",
      "479   -8333.333333\n",
      "480   -8333.333333\n",
      "Name: invest, Length: 481, dtype: float64\n"
     ]
    }
   ],
   "source": [
    "import numpy as np\n",
    "import pandas as pd\n",
    "import random\n",
    "\n",
    "def age_series(age = 30, periods_per_year = 12, years = 40):\n",
    "    age_array = np.ones(periods_per_year * years + 1) / periods_per_year\n",
    "    age_array[0] = age\n",
    "    age_array = np.cumsum(age_array)\n",
    "    age_series = pd.Series(age_array, name='age')\n",
    "    return age_series\n",
    "\n",
    "def salary_series(salary = 100000, salary_growth = .04, periods_per_year = 12, years = 40, age = 30, ret_age = 65):\n",
    "    income_period = ret_age - age\n",
    "    salary_growth_per_period = (1+salary_growth)**(1/periods_per_year)-1\n",
    "    salary_growth_array = np.ones(periods_per_year * years + 1) * (1+salary_growth_per_period)\n",
    "    salary_growth_array[0] = salary\n",
    "    salary_array = np.cumprod(salary_growth_array)\n",
    "    salary_array[(income_period*periods_per_year):] = 0\n",
    "    salary_series = pd.Series(salary_array, name='salary')\n",
    "    return salary_series\n",
    "\n",
    "def invest_series(salary_s = None, invest_pct = .15, periods_per_year = 12, withdraw_amount = 100000, age = 30, ret_age = 65):\n",
    "    income_period = ret_age - age\n",
    "    if salary_s is None:\n",
    "        salary_s = salary_series()\n",
    "    invest_pct_per_period = invest_pct / periods_per_year\n",
    "    invest = salary_s * invest_pct_per_period\n",
    "    invest[income_period*periods_per_year:] = -1 * withdraw_amount / periods_per_year\n",
    "    invest.name = 'invest'\n",
    "    return invest\n",
    "\n",
    "def mortality_sim(age = 32, ret_age = 65, sex = 'F', smoker = 'NS', n_scenarios = 1000, mi = .99):\n",
    "    \n",
    "    mort_df = pd.read_csv('MortalityTables/cso2017.csv')\n",
    "    mort_df = mort_df.set_index(['Sex', 'SmokingStatus', 'IssueAge'])\n",
    "    row = mort_df.loc[(sex, smoker, ret_age)]\n",
    "    arr = np.empty(n_scenarios)\n",
    "\n",
    "    for n in range(n_scenarios):\n",
    "        d = 0\n",
    "        j = ret_age\n",
    "        i = row[d]/1000 * (mi ** (j - age))\n",
    "        while random.random() > i:\n",
    "            j += 1\n",
    "            d +=1\n",
    "            if d < len(row):  # Check if index is out of range\n",
    "                i = row[d]/1000 * (mi ** (j - age))\n",
    "            else:\n",
    "                break\n",
    "        arr[n] = j\n",
    "\n",
    "    df = pd.DataFrame(arr, columns=['age_at_death'])\n",
    "\n",
    "    return df\n",
    "\n",
    "print(invest_series())"
   ]
  },
  {
   "cell_type": "code",
   "execution_count": 12,
   "metadata": {},
   "outputs": [
    {
     "name": "stdout",
     "output_type": "stream",
     "text": [
      "           age  equity  bond       invest         salary\n",
      "0    30.000000     0.9   0.1  1250.000000  100000.000000\n",
      "1    30.083333     0.9   0.1  1254.092175  100327.373978\n",
      "2    30.166667     0.9   0.1  1258.197746  100655.819694\n",
      "3    30.250000     0.9   0.1  1262.316758  100985.340655\n",
      "4    30.333333     0.9   0.1  1266.449255  101315.940382\n",
      "..         ...     ...   ...          ...            ...\n",
      "476  69.666667     0.4   0.6 -8333.333333       0.000000\n",
      "477  69.750000     0.4   0.6 -8333.333333       0.000000\n",
      "478  69.833333     0.4   0.6 -8333.333333       0.000000\n",
      "479  69.916667     0.4   0.6 -8333.333333       0.000000\n",
      "480  70.000000     0.4   0.6 -8333.333333       0.000000\n",
      "\n",
      "[481 rows x 5 columns]\n"
     ]
    }
   ],
   "source": [
    "from allocation import allocation\n",
    "\n",
    "allocation_df = allocation()\n",
    "age_s = age_series()\n",
    "invest_s = invest_series()\n",
    "salary_s = salary_series()\n",
    "\n",
    "df = pd.concat([age_s, allocation_df, invest_s, salary_s], axis=1)\n",
    "print(df)\n"
   ]
  }
 ],
 "metadata": {
  "kernelspec": {
   "display_name": "Python 3",
   "language": "python",
   "name": "python3"
  },
  "language_info": {
   "codemirror_mode": {
    "name": "ipython",
    "version": 3
   },
   "file_extension": ".py",
   "mimetype": "text/x-python",
   "name": "python",
   "nbconvert_exporter": "python",
   "pygments_lexer": "ipython3",
   "version": "3.10.9"
  },
  "orig_nbformat": 4
 },
 "nbformat": 4,
 "nbformat_minor": 2
}
