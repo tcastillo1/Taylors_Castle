{
 "cells": [
  {
   "cell_type": "code",
   "execution_count": 3,
   "metadata": {},
   "outputs": [
    {
     "ename": "TypeError",
     "evalue": "invest_series() got an unexpected keyword argument 'withdraw_amount'",
     "output_type": "error",
     "traceback": [
      "\u001b[0;31m---------------------------------------------------------------------------\u001b[0m",
      "\u001b[0;31mTypeError\u001b[0m                                 Traceback (most recent call last)",
      "\u001b[1;32m/Users/taylorcastillo/Documents/taylors_castle/RetirementStochastic/main.ipynb Cell 1\u001b[0m line \u001b[0;36m5\n\u001b[1;32m     <a href='vscode-notebook-cell:/Users/taylorcastillo/Documents/taylors_castle/RetirementStochastic/main.ipynb#W0sZmlsZQ%3D%3D?line=53'>54</a>\u001b[0m bond_return \u001b[39m=\u001b[39m np\u001b[39m.\u001b[39mappend(bond_return, ones_to_append, axis\u001b[39m=\u001b[39m\u001b[39m1\u001b[39m)\n\u001b[1;32m     <a href='vscode-notebook-cell:/Users/taylorcastillo/Documents/taylors_castle/RetirementStochastic/main.ipynb#W0sZmlsZQ%3D%3D?line=55'>56</a>\u001b[0m salary_s \u001b[39m=\u001b[39m salary_series(salary \u001b[39m=\u001b[39m salary, salary_growth\u001b[39m=\u001b[39m salary_growth, periods_per_year\u001b[39m=\u001b[39mperiods_per_year, years\u001b[39m=\u001b[39myears, age \u001b[39m=\u001b[39m age, ret_age\u001b[39m=\u001b[39mret_age)\n\u001b[0;32m---> <a href='vscode-notebook-cell:/Users/taylorcastillo/Documents/taylors_castle/RetirementStochastic/main.ipynb#W0sZmlsZQ%3D%3D?line=56'>57</a>\u001b[0m invest_s \u001b[39m=\u001b[39m invest_series(salary_series \u001b[39m=\u001b[39;49m salary_s, invest_pct \u001b[39m=\u001b[39;49m invest_pct, periods_per_year \u001b[39m=\u001b[39;49m periods_per_year, withdraw_amount\u001b[39m=\u001b[39;49mwithdraw_amount, age \u001b[39m=\u001b[39;49m age, ret_age\u001b[39m=\u001b[39;49mret_age)\n\u001b[1;32m     <a href='vscode-notebook-cell:/Users/taylorcastillo/Documents/taylors_castle/RetirementStochastic/main.ipynb#W0sZmlsZQ%3D%3D?line=57'>58</a>\u001b[0m mortality_s \u001b[39m=\u001b[39m mortality_sim(age \u001b[39m=\u001b[39m age, ret_age \u001b[39m=\u001b[39m ret_age, sex \u001b[39m=\u001b[39m sex, smoker \u001b[39m=\u001b[39m smoker, n_scenarios \u001b[39m=\u001b[39m n_scenarios, mi \u001b[39m=\u001b[39m mi)\n\u001b[1;32m     <a href='vscode-notebook-cell:/Users/taylorcastillo/Documents/taylors_castle/RetirementStochastic/main.ipynb#W0sZmlsZQ%3D%3D?line=58'>59</a>\u001b[0m allocation_s \u001b[39m=\u001b[39m allocation(start_pct \u001b[39m=\u001b[39m stock_pct_strt,five_yr_pct \u001b[39m=\u001b[39m five_yr_pct,end_pct \u001b[39m=\u001b[39m stock_pct_end,age \u001b[39m=\u001b[39m age,ret_age \u001b[39m=\u001b[39m ret_age,periods_per_year \u001b[39m=\u001b[39m periods_per_year,years \u001b[39m=\u001b[39m years )            \n",
      "\u001b[0;31mTypeError\u001b[0m: invest_series() got an unexpected keyword argument 'withdraw_amount'"
     ]
    }
   ],
   "source": [
    "import numpy as np\n",
    "import pandas as pd\n",
    "import pyesg\n",
    "from series import invest_series, salary_series, age_series, mortality_sim\n",
    "from allocation import allocation\n",
    "\n",
    "# projection inputs\n",
    "years = 60\n",
    "periods_per_year = 2\n",
    "n_scenarios = 10\n",
    "\n",
    "# demographic inputs\n",
    "age = 30\n",
    "sex = 'M'\n",
    "smoker = 'NS'\n",
    "ret_age = 65\n",
    "mi = .99\n",
    "\n",
    "# fund inputs\n",
    "fund_value_start = 100000\n",
    "withdraw_amount = 1000000\n",
    "salary = 100000\n",
    "salary_growth = .045\n",
    "invest_pct = .15\n",
    "inflation = .02\n",
    "stock_pct_strt = .80\n",
    "bond_pct_strt = 1 - stock_pct_strt\n",
    "five_yr_pct = .55\n",
    "stock_pct_end = .2\n",
    "bond_pct_end = 1 - stock_pct_end\n",
    "\n",
    "# instantiate a new model with the required parameters\n",
    "stock_model = pyesg.GeometricBrownianMotion(mu=0.10, sigma=0.15)\n",
    "bond_model = pyesg.GeometricBrownianMotion(mu=0.06, sigma=0.05)\n",
    "\n",
    "x0 = 100.0                             # the start value of our process\n",
    "dt = 1/periods_per_year                # the length of each timestep in years\n",
    "n_steps = periods_per_year * years     # the number of time steps per scenario\n",
    "# random_state = 259                   # optional random_state for reproducibility\n",
    "\n",
    "s_model_results = stock_model.scenarios(x0, dt, n_scenarios, n_steps)\n",
    "b_model_results = bond_model.scenarios(x0, dt, n_scenarios, n_steps)\n",
    "\n",
    "# create stock and bond index return arrays. \n",
    "stock_return = s_model_results[:, 1:] / s_model_results[:, :-1]\n",
    "bond_return = b_model_results[:, 1:] / b_model_results[:, :-1]\n",
    "\n",
    "stock_array = np.insert(stock_return, 0, fund_value_start * stock_pct_strt, axis=1)\n",
    "bond_array = np.insert(bond_return, 0, fund_value_start * bond_pct_strt, axis=1)\n",
    "\n",
    "# the last return value is not used so we add a 1 to the end to return the array to its original length\n",
    "ones_to_append = np.ones((stock_return.shape[0], 1), dtype=int)\n",
    "stock_return = np.append(stock_return, ones_to_append, axis=1)\n",
    "bond_return = np.append(bond_return, ones_to_append, axis=1)\n",
    "\n",
    "salary_s = salary_series(salary = salary, salary_growth= salary_growth, periods_per_year=periods_per_year, years=years, age = age, ret_age=ret_age)\n",
    "invest_s = invest_series(salary_series = salary_s, invest_pct = invest_pct, periods_per_year = periods_per_year, withdraw_amount=withdraw_amount, age = age, ret_age=ret_age)\n",
    "mortality_s = mortality_sim(age = age, ret_age = ret_age, sex = sex, smoker = smoker, n_scenarios = n_scenarios, mi = mi)\n",
    "allocation_s = allocation(start_pct = stock_pct_strt,five_yr_pct = five_yr_pct,end_pct = stock_pct_end,age = age,ret_age = ret_age,periods_per_year = periods_per_year,years = years )            \n",
    "age_s = age_series(age = age, periods_per_year=periods_per_year, years=years)\n",
    "\n",
    "for s, b, inv, alloc_s, alloc_b in zip(stock_array, bond_array, invest_s, allocation_s['equity'], allocation_s['bond']):\n",
    "    for i in range(1, len(s)):\n",
    "        s[i] = s[i-1] * s[i]\n",
    "        b[i] = b[i-1] * b[i]\n",
    "        total_fund = s[i] + b[i] + invest_s[i-1]/periods_per_year\n",
    "        s[i] = total_fund * alloc_s\n",
    "        b[i] = total_fund * alloc_b\n",
    "\n",
    "total_fund = stock_array + bond_array\n",
    "\n",
    "\n",
    "\n",
    "# with pd.ExcelWriter('Outputs/retirement_calc.xlsx') as writer:\n",
    "#     df.to_excel(writer, sheet_name='sheet1')"
   ]
  },
  {
   "cell_type": "code",
   "execution_count": 2,
   "metadata": {},
   "outputs": [
    {
     "name": "stdout",
     "output_type": "stream",
     "text": [
      "Column '0' has no negative values\n",
      "Column '1' first negative value at index 81\n",
      "Column '2' first negative value at index 112\n",
      "Column '3' first negative value at index 83\n",
      "Column '4' has no negative values\n",
      "Column '5' first negative value at index 102\n",
      "Column '6' first negative value at index 84\n",
      "Column '7' first negative value at index 82\n",
      "Column '8' first negative value at index 89\n",
      "Column '9' has no negative values\n"
     ]
    }
   ],
   "source": [
    "for col in df2.columns:\n",
    "    idx = (df2[col] < 0).idxmax()\n",
    "    if df2[col][idx] < 0:  # Check to ensure the value at the index is indeed negative\n",
    "        print(f\"Column '{col}' first negative value at index {idx}\")\n",
    "    else:\n",
    "        print(f\"Column '{col}' has no negative values\")\n",
    "\n",
    "\n"
   ]
  }
 ],
 "metadata": {
  "kernelspec": {
   "display_name": "Python 3",
   "language": "python",
   "name": "python3"
  },
  "language_info": {
   "codemirror_mode": {
    "name": "ipython",
    "version": 3
   },
   "file_extension": ".py",
   "mimetype": "text/x-python",
   "name": "python",
   "nbconvert_exporter": "python",
   "pygments_lexer": "ipython3",
   "version": "3.10.9"
  },
  "orig_nbformat": 4
 },
 "nbformat": 4,
 "nbformat_minor": 2
}
