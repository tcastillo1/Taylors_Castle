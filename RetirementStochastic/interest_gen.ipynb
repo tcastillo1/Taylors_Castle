{
 "cells": [
  {
   "cell_type": "code",
   "execution_count": 6,
   "metadata": {},
   "outputs": [],
   "source": [
    "import pyesg\n",
    "\n",
    "# instantiate a new model with the required parameters\n",
    "model = pyesg.GeometricBrownianMotion(mu=0.10, sigma=0.2)\n",
    "\n",
    "# prepare the arguments to generate scenarios. Here we'll\n",
    "# generate 10,000 scenarios with 252 daily (trading day)\n",
    "# time steps, for a one-year projection in total.\n",
    "x0 = 100.0           # the start value of our process\n",
    "dt = 1/252           # the length of each timestep in years\n",
    "n_scenarios = 1000  # the number of scenarios to generate\n",
    "n_steps = 252 * 40       # the number of time steps per scenario\n",
    "random_state = 300   # optional random_state for reproducibility\n",
    "\n",
    "# now we generate the scenarios; this outputs a numpy array. It will\n",
    "# have shape (10000, 253), which represents (scenarios, timesteps).\n",
    "# There are 253 timesteps because the initial value is included to start\n",
    "results = model.scenarios(x0, dt, n_scenarios, n_steps, random_state)\n"
   ]
  },
  {
   "cell_type": "code",
   "execution_count": 11,
   "metadata": {},
   "outputs": [
    {
     "name": "stdout",
     "output_type": "stream",
     "text": [
      "(1000, 10081)\n"
     ]
    }
   ],
   "source": [
    "import pandas as pd\n",
    "\n",
    "df = pd.DataFrame(results)\n",
    "\n",
    "\n",
    "\n",
    "# df.to_csv('interest_scenarios.csv', index = False)"
   ]
  },
  {
   "cell_type": "code",
   "execution_count": 12,
   "metadata": {},
   "outputs": [
    {
     "data": {
      "image/png": "[encoded data removed]",
      "text/plain": [
       "<Figure size 640x480 with 1 Axes>"
      ]
     },
     "metadata": {},
     "output_type": "display_data"
    }
   ],
   "source": [
    "import pandas as pd\n",
    "import matplotlib.pyplot as plt\n",
    "\n",
    "\n",
    "\n",
    "# Plot a histogram of the 'Age' column\n",
    "df.iloc[:, 8071].hist(bins=1000, edgecolor='black')\n",
    "\n",
    "plt.title('Return Dist')\n",
    "plt.xlabel('Return')\n",
    "plt.ylabel('Frequency')\n",
    "plt.show()\n"
   ]
  },
  {
   "cell_type": "code",
   "execution_count": 3,
   "metadata": {},
   "outputs": [],
   "source": [
    "import numpy as np\n",
    "import pandas as pd\n",
    "import pyesg\n",
    "\n",
    "periods_in_a_year = 12\n",
    "years = 2\n",
    "current_year = 2023\n",
    "target_year = 2055\n",
    "\n",
    "starting_age = 33\n",
    "retirement_age = 35\n",
    "starting_value = 180000\n",
    "salary = 190000\n",
    "salary_growth = .045\n",
    "fund_pct = .15\n",
    "inflation = .022\n",
    "stock_pct_s = .80\n",
    "bond_pct_s = 1 - stock_pct_s\n",
    "stock_pct_e = .2\n",
    "bond_pct_e = 1 - stock_pct_e\n",
    "\n",
    "fund_pct_per_period = fund_pct / periods_in_a_year\n",
    "salary_growth_per_period = (1+salary_growth)**(1/periods_in_a_year)-1\n",
    "fund_pct_per_period = (1+fund_pct)**(1/periods_in_a_year)-1\n",
    "\n",
    "stock_alloc_array = np.ones(periods_in_a_year * years + 1) * (stock_pct_e - stock_pct_s) / (retirement_age - starting_age) / periods_in_a_year\n",
    "stock_alloc_array[0] = stock_pct_s\n",
    "stock_alloc_array = np.cumsum(stock_alloc_array)\n",
    "\n",
    "age_array = np.ones(periods_in_a_year * years + 1) / periods_in_a_year\n",
    "age_array[0] = starting_age\n",
    "age_array = np.cumsum(age_array) \n",
    "\n",
    "salary_growth_array = np.ones(periods_in_a_year * years) * (1+salary_growth_per_period)\n",
    "salary_growth_array[0] = salary\n",
    "salary_array = np.cumprod(salary_growth_array)\n",
    "invest_array = salary_array * fund_pct\n",
    "\n",
    "# instantiate a new model with the required parameters\n",
    "stock_model = pyesg.GeometricBrownianMotion(mu=0.10, sigma=0.15)\n",
    "bond_model = pyesg.GeometricBrownianMotion(mu=0.06, sigma=0.05)\n",
    "\n",
    "x0 = 100.0                          # the start value of our process\n",
    "dt = 1/periods_in_a_year            # the length of each timestep in years\n",
    "n_scenarios = 2                     # the number of scenarios to generate\n",
    "n_steps = periods_in_a_year * years # the number of time steps per scenario\n",
    "random_state = 259                  # optional random_state for reproducibility\n",
    "\n",
    "s_model_results = stock_model.scenarios(x0, dt, n_scenarios, n_steps, random_state)\n",
    "b_model_results = bond_model.scenarios(x0, dt, n_scenarios, n_steps, random_state)\n",
    "\n",
    "stock_return = s_model_results[:, 1:] / s_model_results[:, :-1]\n",
    "bond_return = b_model_results[:, 1:] / b_model_results[:, :-1]\n",
    "\n",
    "stock_array = np.insert(stock_return, 0, starting_value * stock_pct, axis=1)\n",
    "bond_array = np.insert(bond_return, 0, starting_value * bond_pct, axis=1)\n",
    "\n",
    "for s, b in zip(stock_array, bond_array):\n",
    "    for i in range(1, len(s)):\n",
    "        s[i] = s[i-1] * s[i]\n",
    "        b[i] = b[i-1] * b[i]\n",
    "        total_fund = s[i] + b[i] + invest_array[i-1]/periods_in_a_year\n",
    "        s[i] = total_fund * stock_pct\n",
    "        b[i] = total_fund * bond_pct\n",
    "\n",
    "stock_array_df = pd.DataFrame(stock_array)\n",
    "bond_array_df = pd.DataFrame(bond_array)\n",
    "stock_return_df = pd.DataFrame(stock_return)\n",
    "bond_return_df = pd.DataFrame(bond_return)\n",
    "salary_array_df = pd.DataFrame(salary_array)\n",
    "invest_array_df = pd.DataFrame(invest_array)\n",
    "age_array_df = pd.DataFrame(age_array)\n",
    "\n",
    "with pd.ExcelWriter('retirement_calc.xlsx') as writer:\n",
    "    stock_array_df.to_excel(writer, sheet_name='stock_array')\n",
    "    bond_array_df.to_excel(writer, sheet_name='bond_array')\n",
    "    stock_return_df.to_excel(writer, sheet_name='stock_return')\n",
    "    bond_return_df.to_excel(writer, sheet_name='bond_return')\n",
    "    # index_return_df.to_excel(writer, sheet_name='index')\n",
    "    # salary_array_df.to_excel(writer, sheet_name='salary')\n",
    "    invest_array_df.to_excel(writer, sheet_name='invest')\n",
    "    # age_array_df.to_excel(writer, sheet_name='age')\n",
    "\n"
   ]
  },
  {
   "cell_type": "code",
   "execution_count": 50,
   "metadata": {},
   "outputs": [
    {
     "name": "stdout",
     "output_type": "stream",
     "text": [
      "0\n",
      "1\n",
      "2\n"
     ]
    }
   ],
   "source": [
    "for i in range(3):\n",
    "    print(i)\n",
    "\n"
   ]
  }
 ],
 "metadata": {
  "kernelspec": {
   "display_name": "Python 3",
   "language": "python",
   "name": "python3"
  },
  "language_info": {
   "codemirror_mode": {
    "name": "ipython",
    "version": 3
   },
   "file_extension": ".py",
   "mimetype": "text/x-python",
   "name": "python",
   "nbconvert_exporter": "python",
   "pygments_lexer": "ipython3",
   "version": "3.10.9"
  },
  "orig_nbformat": 4
 },
 "nbformat": 4,
 "nbformat_minor": 2
}
